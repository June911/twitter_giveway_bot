{
 "cells": [
  {
   "cell_type": "code",
   "execution_count": 2,
   "metadata": {},
   "outputs": [],
   "source": [
    "from twitter_giveaway_bot_v2 import *\n",
    "import datetime\n",
    "import numpy as np \n",
    "import pandas as pd \n",
    "client = connect()"
   ]
  },
  {
   "cell_type": "code",
   "execution_count": 4,
   "metadata": {},
   "outputs": [
    {
     "name": "stdout",
     "output_type": "stream",
     "text": [
      "--------------------------------------------------------------------------------\n",
      "my_info: JunWang63625657\n",
      "my_id: 1505612350476492806\n",
      "users_following ['Dan Rowden ⚡️', 'NFT RAM', 'Ramo', 'Celephais', 'Dream Protocols', 'Loomi Heads', 'Ukiyo Players ⚔️', 'Nine Lives Battalion', 'Space Walkers', 'World of Irukandji', 'takoa jello allred', 'Kindred Spirits', '0x娜可露露🌸', 'sartoshi', 'The Parleh', 'Karma Cats NFT', 'QOM - Shiba Predator', 'DΞX', 'j’von', 'pssssd', '币圈贵族(互fo)', '3landers 👀', 'DeFi Kingdoms', 'Azuki', 'Gummy Gang NFT', 'Takoa’s Giving', 'Roborovski NFT Collections', 'mseggmily.eth', 'PROOF (🥃,🦉)', 'Moonbirds', 'Phantom Network', 'MOMOCO', 'Swap Inc.', 'Cecilia knows', 'Shinsekai', 'Beutrec ✦', 'Loser Club', 'Concentrator', 'PlumToken', 'Lenster (🌿, 🌸)', 'CNHC', 'Tang Han', 'GENE_SIS', 'GHARLIERA', '老外币事- Jimmy 米哥', 'robin.ph', 'CoinEx Global', 'Swappi', 'Forgiven', 'Christian2022.eth（N-Space）', 'sukie.eth', 'Kingyo Ren', 'xiangsean', 'AirN', '0x0crypto DAO', 'EigenPhi HQ: Wisdom of DeFi (🔭, 🎙)', 'Golden Bros', 'BNB Chain 🔶', 'Huobi', 'Barry Silbert', 'Shib', 'Bitcoin', 'Solana', 'Charlie Lee', 'CZ 🔶 Binance', 'Michael Saylor⚡️', 'CoinMarketCap', 'Pomp 🌪', 'vitalik.eth']\n"
     ]
    },
    {
     "data": {
      "text/plain": [
       "<User id=1432082576999518208 name=NFT RAM username=NftRam>"
      ]
     },
     "execution_count": 4,
     "metadata": {},
     "output_type": "execute_result"
    }
   ],
   "source": [
    "users_following = get_accounts_following(client)\n",
    "users_following[1]"
   ]
  },
  {
   "cell_type": "code",
   "execution_count": 69,
   "metadata": {},
   "outputs": [
    {
     "data": {
      "text/plain": [
       "<User id=1490856679847739395 name=Dream Protocols username=DreamProtocols>"
      ]
     },
     "execution_count": 69,
     "metadata": {},
     "output_type": "execute_result"
    }
   ],
   "source": [
    "user = users_following[4]\n",
    "user"
   ]
  },
  {
   "cell_type": "code",
   "execution_count": 70,
   "metadata": {},
   "outputs": [
    {
     "data": {
      "text/plain": [
       "[<Tweet id=1512484846752657411 text='which type yall feeling?👀 https://t.co/Yuiwdjej2s'>,\n",
       " <Tweet id=1512322242155356163 text='gm frens say it back🥺 whitepaper in progress.. 10 days to mint 👀🚀 https://t.co/zpg7e0R4cp'>,\n",
       " <Tweet id=1512306037533065217 text='RT @LazyPlug_: 🔥🔥🔥 WL GIVEAWAY🔥🔥🔥\\n\\nI am giving away (5) Flappy Boyz WL spots courtesy of the team!\\n\\nHow to Enter:\\n1⃣Follow @LazyPlug_ &amp; @Dr…'>,\n",
       " <Tweet id=1512231778588798979 text='RT @GodJiraslove: 🎉WL GIVEAWAY🎉\\n\\nWe are giving away 5 Flappy Boys WL spots!\\n \\n1️⃣ Follow @DreamProtocols &amp; @PGodjira\\n2️⃣ Retweet &amp; Tag 2 fr…'>,\n",
       " <Tweet id=1512146792078581760 text=\"THERE'S A FLAPPY SHARK ON THE BEACH https://t.co/Rv9OnJgEQY\">]"
      ]
     },
     "execution_count": 70,
     "metadata": {},
     "output_type": "execute_result"
    }
   ],
   "source": [
    "user = users_following[4]\n",
    "\n",
    "latest_tweets = client.get_users_tweets(\n",
    "    user[\"id\"],\n",
    "    user_auth=True,\n",
    "    max_results=5,\n",
    "    tweet_fields=[\"text\"],\n",
    "    expansions=[\"referenced_tweets.id\"],\n",
    ")\n",
    "latest_tweets.data"
   ]
  },
  {
   "cell_type": "code",
   "execution_count": 27,
   "metadata": {},
   "outputs": [
    {
     "data": {
      "text/plain": [
       "<User id=1472833622323470339 name=Celephais username=CelephaisNFT>"
      ]
     },
     "execution_count": 27,
     "metadata": {},
     "output_type": "execute_result"
    }
   ],
   "source": [
    "user"
   ]
  },
  {
   "cell_type": "code",
   "execution_count": 82,
   "metadata": {},
   "outputs": [
    {
     "name": "stdout",
     "output_type": "stream",
     "text": [
      "🔥🔥🔥 WL GIVEAWAY🔥🔥🔥\n",
      "\n",
      "I am giving away (5) Flappy Boyz WL spots courtesy of the team!\n",
      "\n",
      "How to Enter:\n",
      "1⃣Follow @LazyPlug_ &amp; @DreamProtocols \n",
      "2⃣Like &amp; Retweet\n",
      "3⃣Tag atleast 3 friends(Every extra tag = additional entry)\n",
      "\n",
      "I will be picking a winner in 24 hours! https://t.co/gDH9G3J91C\n"
     ]
    }
   ],
   "source": [
    "one_tweet = latest_tweets.includes[\"tweets\"][0]\n",
    "tweet_id = one_tweet[\"id\"]\n",
    "content = one_tweet[\"text\"]\n",
    "print(one_tweet)"
   ]
  },
  {
   "cell_type": "code",
   "execution_count": 85,
   "metadata": {},
   "outputs": [],
   "source": [
    "x =  \"tag a few friends\""
   ]
  },
  {
   "cell_type": "code",
   "execution_count": 84,
   "metadata": {},
   "outputs": [
    {
     "name": "stdout",
     "output_type": "stream",
     "text": [
      "users_need_to_follow: {'LazyPlug_', 'DreamProtocols'}\n",
      "user_name: LazyPlug_\n",
      "user_id: 1455383282862940161\n",
      "following: True\n",
      "user_name: DreamProtocols\n",
      "user_id: 1490856679847739395\n",
      "following: True\n"
     ]
    }
   ],
   "source": [
    "users_need_to_follow = set(re.findall(r\"@([a-zA-Z0-9_]+)\", content))\n",
    "print(f\"users_need_to_follow: {users_need_to_follow}\")\n",
    "for user_name in users_need_to_follow:\n",
    "    # get user id\n",
    "    user_id = client.get_user(username=user_name, user_auth=True).data.id\n",
    "    # follow\n",
    "    res = client.follow_user(user_id).data[\"following\"]\n",
    "\n",
    "    print(f\"user_name: {user_name}\")\n",
    "    print(f\"user_id: {user_id}\")\n",
    "    print(f\"following: {res}\")"
   ]
  },
  {
   "cell_type": "code",
   "execution_count": null,
   "metadata": {},
   "outputs": [],
   "source": []
  },
  {
   "cell_type": "code",
   "execution_count": null,
   "metadata": {},
   "outputs": [],
   "source": []
  },
  {
   "cell_type": "code",
   "execution_count": null,
   "metadata": {},
   "outputs": [],
   "source": []
  },
  {
   "cell_type": "code",
   "execution_count": 33,
   "metadata": {},
   "outputs": [
    {
     "data": {
      "text/plain": [
       "{'CelephaisNFT', 'NftRamo'}"
      ]
     },
     "execution_count": 33,
     "metadata": {},
     "output_type": "execute_result"
    }
   ],
   "source": [
    "latest_tweets.includes[\"tweets\"][0][\"id\"]\n",
    "content = latest_tweets.includes[\"tweets\"][0][\"text\"]\n",
    "count_keywords = sum(\n",
    "    [1 if keyword in content.lower() else 0 for keyword in lst_keywords]\n",
    ")\n",
    "count_keywords\n",
    "users_need_to_follow = set(re.findall(r\"@([a-zA-Z0-9]+)\", content))\n",
    "users_need_to_follow"
   ]
  },
  {
   "cell_type": "code",
   "execution_count": 34,
   "metadata": {},
   "outputs": [
    {
     "data": {
      "text/plain": [
       "'🔥☁️ WL GIVEAWAY ☁️🔥\\n\\nGiving away 3 WL spots for @CelephaisNFT one of the Biggest Drops this year 🚨\\n\\n\\U0001fae7 Like/RT\\n\\U0001fae7 Follow @NftRamo &amp; @CelephaisNFT \\n\\U0001fae7 Tag 3 Friends\\n\\nWinners in 48 Hours ❤️\\n\\n#NFTGiveaway https://t.co/kkUbHcurXw'"
      ]
     },
     "execution_count": 34,
     "metadata": {},
     "output_type": "execute_result"
    }
   ],
   "source": [
    "content"
   ]
  },
  {
   "cell_type": "code",
   "execution_count": 44,
   "metadata": {},
   "outputs": [
    {
     "data": {
      "text/plain": [
       "'tag 3 friends'"
      ]
     },
     "execution_count": 44,
     "metadata": {},
     "output_type": "execute_result"
    }
   ],
   "source": [
    "re.findall(r\"tag.+friends\", content.lower())"
   ]
  },
  {
   "cell_type": "code",
   "execution_count": 50,
   "metadata": {},
   "outputs": [
    {
     "data": {
      "text/plain": [
       "['OH5 | Moonbirds', 'Multiversal Walkers Fan Club', '老外币事- Jimmy 米哥']"
      ]
     },
     "execution_count": 50,
     "metadata": {},
     "output_type": "execute_result"
    }
   ],
   "source": [
    "name_users_followers = [i[\"name\"] for i in users_followers]\n"
   ]
  },
  {
   "cell_type": "code",
   "execution_count": 63,
   "metadata": {},
   "outputs": [
    {
     "data": {
      "text/plain": [
       "[<User id=884408440910745600 name=OH5 | Moonbirds username=OH5forGalbraith>,\n",
       " <User id=467892917 name=Multiversal Walkers Fan Club username=MultivrslWalkrs>,\n",
       " <User id=1401887084076429324 name=老外币事- Jimmy 米哥 username=CryptosLaowai>]"
      ]
     },
     "execution_count": 63,
     "metadata": {},
     "output_type": "execute_result"
    }
   ],
   "source": [
    "users_followers"
   ]
  },
  {
   "cell_type": "code",
   "execution_count": 64,
   "metadata": {},
   "outputs": [
    {
     "name": "stdout",
     "output_type": "stream",
     "text": [
      "--------------------------------------------------------------------------------\n",
      "my_info: JunWang63625657\n",
      "my_id: 1505612350476492806\n",
      "users_followers ['OH5 | Moonbirds', 'Multiversal Walkers Fan Club', '老外币事- Jimmy 米哥']\n"
     ]
    },
    {
     "data": {
      "text/plain": [
       "['OH5forGalbraith', 'MultivrslWalkrs', 'CryptosLaowai']"
      ]
     },
     "execution_count": 64,
     "metadata": {},
     "output_type": "execute_result"
    }
   ],
   "source": [
    "users_followers = get_accounts_followers(client)\n",
    "name_users_followers = [i[\"username\"] for i in users_followers]\n",
    "name_users_followers"
   ]
  },
  {
   "cell_type": "code",
   "execution_count": 57,
   "metadata": {},
   "outputs": [
    {
     "data": {
      "text/plain": [
       "3"
      ]
     },
     "execution_count": 57,
     "metadata": {},
     "output_type": "execute_result"
    }
   ],
   "source": [
    "tag_message = re.findall(r\"tag.+friends\", content.lower())\n",
    "n_friends = int(re.findall(r\"[0-9]\", tag_message[0])[0])\n",
    "n_friends"
   ]
  },
  {
   "cell_type": "code",
   "execution_count": 65,
   "metadata": {},
   "outputs": [
    {
     "data": {
      "text/plain": [
       "'@MultivrslWalkrs@OH5forGalbraith@CryptosLaowai'"
      ]
     },
     "execution_count": 65,
     "metadata": {},
     "output_type": "execute_result"
    }
   ],
   "source": [
    "import random\n",
    "selected_friends = random.sample(name_users_followers, 3)\n",
    "tag_message = \"\".join([\"@\" + user for user in selected_friends])\n",
    "res = client.create_tweet(\n",
    "    text=tag_message\n",
    ")\n",
    "tag_message"
   ]
  },
  {
   "cell_type": "code",
   "execution_count": 5,
   "metadata": {},
   "outputs": [
    {
     "name": "stdout",
     "output_type": "stream",
     "text": [
      "potential_twitter_accounts: ['Texan_Shinja', 'ThePrimeCuts1', 'AarubruhB', 'BartekSibiga', 'NFT_Rasklekid', 'opensea', 'TheRealPlanC', 'AIBCsummit', 'Crypto_Bull_NFT', 'TheDunedains', 'FancyBearsMeta', 'crypto_birb', 'decodejar', 'dragonfluxy']\n",
      "true_potential_twitter_accounts: ['Crypto_Bull_NFT', 'FancyBearsMeta', 'crypto_birb']\n"
     ]
    }
   ],
   "source": [
    "# project_name = \"TrippyToadz\"\n",
    "# project_name = \"Juicebox Frens\"\n",
    "# project_name = \"Average Creatures\"\n",
    "# project_name = \"0x863…97f8f\"\n",
    "project_name = \"Crypto Bears\"\n",
    "# search related recent tweets \n",
    "recent_tweets =  client.search_recent_tweets(project_name, user_auth=True)\n",
    "# find all twitter accounts in the recent tweets  \n",
    "lst = [re.findall(r\"@([a-zA-Z0-9_]+)\", tweet[\"text\"]) for tweet in recent_tweets.data]\n",
    "potential_twitter_accounts = list(set([item for sublist in lst for item in sublist]))\n",
    "print(f\"potential_twitter_accounts: {potential_twitter_accounts}\")\n",
    "# find the true one \n",
    "# assume that the twitter account should at least contains one part of the project name  \n",
    "lst2 = [account.lower() for account in potential_twitter_accounts]\n",
    "project_name_lower =  project_name.lower().split(\" \")\n",
    "true_potential_twitter_accounts = [potential_twitter_accounts[i] for i in range(len(lst2)) for j in project_name_lower if j in lst2[i]]\n",
    "print(f\"true_potential_twitter_accounts: {true_potential_twitter_accounts}\")"
   ]
  },
  {
   "cell_type": "code",
   "execution_count": 4,
   "metadata": {},
   "outputs": [
    {
     "data": {
      "text/plain": [
       "[['TheDunedains', 'Crypto'],\n",
       " ['AarubruhB'],\n",
       " ['TheRealPlanC'],\n",
       " ['NFT', 'Crypto', 'opensea', 'ThePrimeCuts1'],\n",
       " ['AarubruhB'],\n",
       " ['Texan'],\n",
       " ['AarubruhB'],\n",
       " ['dragonfluxy'],\n",
       " ['FancyBearsMeta', 'AIBCsummit', 'BartekSibiga'],\n",
       " ['decodejar', 'crypto']]"
      ]
     },
     "execution_count": 4,
     "metadata": {},
     "output_type": "execute_result"
    }
   ],
   "source": [
    "lst"
   ]
  },
  {
   "cell_type": "code",
   "execution_count": 71,
   "metadata": {},
   "outputs": [
    {
     "data": {
      "text/plain": [
       "['average', 'creatures']"
      ]
     },
     "execution_count": 71,
     "metadata": {},
     "output_type": "execute_result"
    }
   ],
   "source": [
    "project_name_lower =  project_name.lower().split(\" \")\n",
    "project_name_lower"
   ]
  },
  {
   "cell_type": "code",
   "execution_count": 99,
   "metadata": {},
   "outputs": [],
   "source": [
    "a = set()\n",
    "if a:\n",
    "    print(1)"
   ]
  },
  {
   "cell_type": "code",
   "execution_count": 95,
   "metadata": {},
   "outputs": [
    {
     "data": {
      "text/plain": [
       "['AvgCreatures']"
      ]
     },
     "execution_count": 95,
     "metadata": {},
     "output_type": "execute_result"
    }
   ],
   "source": [
    "project_name_lower =  project_name.lower().split(\" \")\n",
    "\n",
    "# [potential_twitter_accounts[i] for i in range(len(lst2)) if project_name_lower in lst2[i]]\n",
    "\n",
    "# for j in project_name_lower for i in range(len(lst2)) if j in in lst2[i]]\n",
    "\n",
    "for i in range(len(lst2)):\n",
    "    for j in project_name_lower:\n",
    "        # print(j, lst2[i])\n",
    "        if j in lst2[i]:\n",
    "            print(j, potential_twitter_accounts[i])\n",
    "\n",
    "\n",
    "[potential_twitter_accounts[i] for i in range(len(lst2)) for j in project_name_lower if j in lst2[i]]\n",
    "\n",
    "            \n",
    "            "
   ]
  },
  {
   "cell_type": "code",
   "execution_count": 105,
   "metadata": {},
   "outputs": [
    {
     "data": {
      "text/plain": [
       "['ToonSquadNFT', 'Toonsquad', 'toonsquad']"
      ]
     },
     "execution_count": 105,
     "metadata": {},
     "output_type": "execute_result"
    }
   ],
   "source": [
    "true_potential_twitter_accounts"
   ]
  },
  {
   "cell_type": "code",
   "execution_count": 116,
   "metadata": {},
   "outputs": [
    {
     "name": "stdout",
     "output_type": "stream",
     "text": [
      "ToonSquadNFT\n",
      "Toonsquad\n",
      "toonsquad\n"
     ]
    }
   ],
   "source": [
    "# init dataframe to store value \n",
    "df_data = pd.DataFrame(columns=[\"account\", \"project_name\", \"followers_count\", \"following_count\", \"tweet_count\", \n",
    "                                \"mean_tweets_per_week\", \"mean_tweets_per_week_exclu_retweets\", \"mean_like_count\", \"mean_retweet_count\", \"mean_reply_count\"])\n",
    "df_data.set_index(\"account\", inplace=True)\n",
    "\n",
    "for account in true_potential_twitter_accounts:\n",
    "    print(account)\n",
    "    # get account info \n",
    "    user = client.get_user(username=account, user_fields=[\"public_metrics\"], user_auth=True).data\n",
    "    if user:\n",
    "        account_info = user[\"public_metrics\"]\n",
    "        followers_count = account_info[\"followers_count\"]\n",
    "        following_count = account_info[\"following_count\"]\n",
    "        tweet_count = account_info[\"tweet_count\"]\n",
    "        \n",
    "        # get account recent \n",
    "        latest_tweets = client.get_users_tweets(\n",
    "            user[\"id\"],\n",
    "            user_auth=True,\n",
    "            max_results=100,\n",
    "            tweet_fields=[\"text\", \"public_metrics\"],\n",
    "            start_time = datetime.datetime.now() - datetime.timedelta(days=14)\n",
    "        ).data\n",
    "\n",
    "\n",
    "        if latest_tweets:\n",
    "            # statistics \n",
    "            # !! for average tweets per week, since we can only access 100 recent tweets, if the number of recent tweets\n",
    "            # is larger than 100, this measure is underestimated  \n",
    "            mean_tweets_per_week = len(latest_tweets) / 14 * 7\n",
    "            total_number_of_tweets_exclu_retweets = sum([1 if \"RT\" not in one_tweet[\"text\"] else 0 for one_tweet in latest_tweets])\n",
    "            mean_tweets_per_week_exclu_retweets = total_number_of_tweets_exclu_retweets  / 14 * 7\n",
    "            mean_like_count = np.mean([one_tweet[\"public_metrics\"][\"like_count\"] for one_tweet in latest_tweets])\n",
    "            mean_retweet_count = np.mean([one_tweet[\"public_metrics\"][\"retweet_count\"] for one_tweet in latest_tweets])\n",
    "            mean_reply_count = np.mean([one_tweet[\"public_metrics\"][\"reply_count\"] for one_tweet in latest_tweets])\n",
    "\n",
    "            df_data.loc[account, :] = [project_name, followers_count, following_count, tweet_count, \n",
    "                                    mean_tweets_per_week, mean_tweets_per_week_exclu_retweets, mean_like_count, mean_retweet_count, mean_reply_count]\n",
    "\n",
    "        \n"
   ]
  },
  {
   "cell_type": "code",
   "execution_count": 117,
   "metadata": {},
   "outputs": [
    {
     "data": {
      "text/html": [
       "<div>\n",
       "<style scoped>\n",
       "    .dataframe tbody tr th:only-of-type {\n",
       "        vertical-align: middle;\n",
       "    }\n",
       "\n",
       "    .dataframe tbody tr th {\n",
       "        vertical-align: top;\n",
       "    }\n",
       "\n",
       "    .dataframe thead th {\n",
       "        text-align: right;\n",
       "    }\n",
       "</style>\n",
       "<table border=\"1\" class=\"dataframe\">\n",
       "  <thead>\n",
       "    <tr style=\"text-align: right;\">\n",
       "      <th></th>\n",
       "      <th>project_name</th>\n",
       "      <th>followers_count</th>\n",
       "      <th>following_count</th>\n",
       "      <th>tweet_count</th>\n",
       "      <th>mean_tweets_per_week</th>\n",
       "      <th>mean_tweets_per_week_exclu_retweets</th>\n",
       "      <th>mean_like_count</th>\n",
       "      <th>mean_retweet_count</th>\n",
       "      <th>mean_reply_count</th>\n",
       "    </tr>\n",
       "    <tr>\n",
       "      <th>account</th>\n",
       "      <th></th>\n",
       "      <th></th>\n",
       "      <th></th>\n",
       "      <th></th>\n",
       "      <th></th>\n",
       "      <th></th>\n",
       "      <th></th>\n",
       "      <th></th>\n",
       "      <th></th>\n",
       "    </tr>\n",
       "  </thead>\n",
       "  <tbody>\n",
       "    <tr>\n",
       "      <th>ToonSquadNFT</th>\n",
       "      <td>ToonSquad</td>\n",
       "      <td>51314</td>\n",
       "      <td>10</td>\n",
       "      <td>513</td>\n",
       "      <td>50.0</td>\n",
       "      <td>14.5</td>\n",
       "      <td>13.73</td>\n",
       "      <td>17.37</td>\n",
       "      <td>2.14</td>\n",
       "    </tr>\n",
       "  </tbody>\n",
       "</table>\n",
       "</div>"
      ],
      "text/plain": [
       "             project_name followers_count following_count tweet_count  \\\n",
       "account                                                                 \n",
       "ToonSquadNFT    ToonSquad           51314              10         513   \n",
       "\n",
       "             mean_tweets_per_week mean_tweets_per_week_exclu_retweets  \\\n",
       "account                                                                 \n",
       "ToonSquadNFT                 50.0                                14.5   \n",
       "\n",
       "             mean_like_count mean_retweet_count mean_reply_count  \n",
       "account                                                           \n",
       "ToonSquadNFT           13.73              17.37             2.14  "
      ]
     },
     "execution_count": 117,
     "metadata": {},
     "output_type": "execute_result"
    }
   ],
   "source": [
    "df_data"
   ]
  },
  {
   "cell_type": "code",
   "execution_count": 99,
   "metadata": {},
   "outputs": [
    {
     "data": {
      "text/plain": [
       "81.22"
      ]
     },
     "execution_count": 99,
     "metadata": {},
     "output_type": "execute_result"
    }
   ],
   "source": [
    "one_tweet = latest_tweets[0]\n",
    "mean_like_count = np.mean([one_tweet[\"public_metrics\"][\"like_count\"] for one_tweet in latest_tweets])\n",
    "mean_like_count"
   ]
  },
  {
   "cell_type": "code",
   "execution_count": 95,
   "metadata": {},
   "outputs": [],
   "source": [
    "latest_tweets = client.get_users_tweets(\n",
    "    user[\"id\"],\n",
    "    user_auth=True,\n",
    "    max_results=100,\n",
    "    tweet_fields=[\"text\", \"public_metrics\"],\n",
    "    start_time = datetime.datetime.now() - datetime.timedelta(days=14)\n",
    ").data"
   ]
  },
  {
   "cell_type": "code",
   "execution_count": 77,
   "metadata": {},
   "outputs": [],
   "source": [
    "user = client.get_user(username=account, user_fields=[\"public_metrics\"], user_auth=True).data\n",
    "account_info = user[\"public_metrics\"]\n",
    "followers_count = account_info[\"followers_count\"]\n",
    "following_count = account_info[\"following_count\"]\n",
    "tweet_count = account_info[\"tweet_count\"]\n",
    "\n",
    "latest_tweets = client.get_users_tweets(\n",
    "    user[\"id\"],\n",
    "    user_auth=True,\n",
    "    max_results=100,\n",
    "    tweet_fields=[\"text\"],\n",
    "    start_time = datetime.datetime.now() - datetime.timedelta(days=14)\n",
    ").data\n",
    "\n",
    "\n"
   ]
  },
  {
   "cell_type": "code",
   "execution_count": 122,
   "metadata": {},
   "outputs": [
    {
     "data": {
      "text/plain": [
       "{'followers_count': 16360,\n",
       " 'following_count': 909,\n",
       " 'tweet_count': 891,\n",
       " 'listed_count': 14}"
      ]
     },
     "execution_count": 122,
     "metadata": {},
     "output_type": "execute_result"
    }
   ],
   "source": [
    "account_info"
   ]
  },
  {
   "cell_type": "code",
   "execution_count": 130,
   "metadata": {},
   "outputs": [
    {
     "data": {
      "text/plain": [
       "[<Tweet id=1506331869322772481 text=\"Let's !vibe https://t.co/yLFHleVA3i\">,\n",
       " <Tweet id=1506322990648070144 text='RT @Friendswithyou: loving @trippytoadznft the trippiest 🍄💕'>,\n",
       " <Tweet id=1506321643777363968 text='WE ARE NOW SOLD OUT!!!!'>,\n",
       " <Tweet id=1506313890421899269 text='@diplo 🐸🐸🐸'>,\n",
       " <Tweet id=1506313826702020609 text='RT @diplo: I toad you so'>,\n",
       " <Tweet id=1506310546370428928 text='@enzea_eth 🌈🌈🌈'>,\n",
       " <Tweet id=1506299747631468545 text=\"Public mint is now live! 🚨🚨🚨\\n\\nhttps://t.co/e1lMMy40hj\\n\\nTo celebrate the public mint, we'll be giving away 3 toadz! \\n\\nAll you have to do is:\\n\\n1️⃣ Retweet\\n2️⃣ Tag a friend https://t.co/uxWmCPe8bY\">,\n",
       " <Tweet id=1506290834970492932 text='gm 🐸🌈🍄 less than 1 hour until public mint !'>,\n",
       " <Tweet id=1506135126459092994 text='To celebrate our first day of minting, we want to give you and your friend a free toad! 🌈🐸🍄\\n\\nPublic minting starts tomorrow at 9 AM PST / 12 PM EST ✨\\n\\nAll you have to do is: \\n\\n1️⃣ Retweet\\n2️⃣ Join https://t.co/fN0kATphKa\\n3️⃣ Tag a friend https://t.co/Z7YOMCDJiF'>,\n",
       " <Tweet id=1506114243032014848 text='RT @FutureFanatik: Is @trippytoadznft a sleeper 🚀?? \\n\\nI see you @Jauzofficial @WaxMotif @boysnoize @rukes @destructoamf https://t.co/YvFude…'>]"
      ]
     },
     "execution_count": 130,
     "metadata": {},
     "output_type": "execute_result"
    }
   ],
   "source": [
    "latest_tweets"
   ]
  },
  {
   "cell_type": "code",
   "execution_count": 131,
   "metadata": {},
   "outputs": [
    {
     "name": "stdout",
     "output_type": "stream",
     "text": [
      "TrippyToadz 16361 909 891 50.0 81.43 65.61 41.58\n"
     ]
    }
   ],
   "source": []
  },
  {
   "cell_type": "code",
   "execution_count": 132,
   "metadata": {},
   "outputs": [
    {
     "data": {
      "text/html": [
       "<div>\n",
       "<style scoped>\n",
       "    .dataframe tbody tr th:only-of-type {\n",
       "        vertical-align: middle;\n",
       "    }\n",
       "\n",
       "    .dataframe tbody tr th {\n",
       "        vertical-align: top;\n",
       "    }\n",
       "\n",
       "    .dataframe thead th {\n",
       "        text-align: right;\n",
       "    }\n",
       "</style>\n",
       "<table border=\"1\" class=\"dataframe\">\n",
       "  <thead>\n",
       "    <tr style=\"text-align: right;\">\n",
       "      <th></th>\n",
       "      <th>project_name</th>\n",
       "      <th>followers_count</th>\n",
       "      <th>following_count</th>\n",
       "      <th>tweet_count</th>\n",
       "      <th>mean_tweets_per_week</th>\n",
       "      <th>mean_like_count</th>\n",
       "      <th>mean_retweet_count</th>\n",
       "      <th>mean_reply_count</th>\n",
       "    </tr>\n",
       "    <tr>\n",
       "      <th>account</th>\n",
       "      <th></th>\n",
       "      <th></th>\n",
       "      <th></th>\n",
       "      <th></th>\n",
       "      <th></th>\n",
       "      <th></th>\n",
       "      <th></th>\n",
       "      <th></th>\n",
       "    </tr>\n",
       "  </thead>\n",
       "  <tbody>\n",
       "    <tr>\n",
       "      <th>trippytoadznft</th>\n",
       "      <td>TrippyToadz</td>\n",
       "      <td>16361</td>\n",
       "      <td>909</td>\n",
       "      <td>891</td>\n",
       "      <td>50.0</td>\n",
       "      <td>81.43</td>\n",
       "      <td>65.61</td>\n",
       "      <td>41.58</td>\n",
       "    </tr>\n",
       "  </tbody>\n",
       "</table>\n",
       "</div>"
      ],
      "text/plain": [
       "               project_name followers_count following_count tweet_count  \\\n",
       "account                                                                   \n",
       "trippytoadznft  TrippyToadz           16361             909         891   \n",
       "\n",
       "               mean_tweets_per_week mean_like_count mean_retweet_count  \\\n",
       "account                                                                  \n",
       "trippytoadznft                 50.0           81.43              65.61   \n",
       "\n",
       "               mean_reply_count  \n",
       "account                          \n",
       "trippytoadznft            41.58  "
      ]
     },
     "execution_count": 132,
     "metadata": {},
     "output_type": "execute_result"
    }
   ],
   "source": [
    "df_data"
   ]
  },
  {
   "cell_type": "code",
   "execution_count": 54,
   "metadata": {},
   "outputs": [
    {
     "data": {
      "text/plain": [
       "(datetime.datetime(2022, 3, 22, 20, 0, 9, tzinfo=datetime.timezone.utc),\n",
       " {'followers_count': 16317,\n",
       "  'following_count': 909,\n",
       "  'tweet_count': 891,\n",
       "  'listed_count': 15})"
      ]
     },
     "execution_count": 54,
     "metadata": {},
     "output_type": "execute_result"
    }
   ],
   "source": [
    "b.data[0][\"created_at\"], c.data[\"public_metrics\"]\n",
    "\n"
   ]
  },
  {
   "cell_type": "code",
   "execution_count": 33,
   "metadata": {},
   "outputs": [
    {
     "data": {
      "text/plain": [
       "Response(data=<User id=2901051186 name=TRIPPY TOADZ 🍄🐸 SOLD OUT!!!! username=trippytoadznft>, includes={}, errors=[], meta={})"
      ]
     },
     "execution_count": 33,
     "metadata": {},
     "output_type": "execute_result"
    }
   ],
   "source": [
    "c = client.get_user(username=\"trippytoadznft\", user_fields=[\"public_metrics\"], user_auth=True)\n",
    "c[data]\n"
   ]
  },
  {
   "cell_type": "code",
   "execution_count": 39,
   "metadata": {},
   "outputs": [
    {
     "data": {
      "text/plain": [
       "Response(data=[<Tweet id=1506359542900174848 text=\"RT @trippytoadznft: Public mint is now live! 🚨🚨🚨\\n\\nhttps://t.co/e1lMMy40hj\\n\\nTo celebrate the public mint, we'll be giving away 3 toadz! \\n\\nAl…\">, <Tweet id=1506358917693157378 text='RT @trippytoadznft: To celebrate our first day of minting, we want to give you and your friend a free toad! 🌈🐸🍄\\n\\nPublic minting starts tomo…'>, <Tweet id=1506358823552172034 text=\"RT @trippytoadznft: Public mint is now live! 🚨🚨🚨\\n\\nhttps://t.co/e1lMMy40hj\\n\\nTo celebrate the public mint, we'll be giving away 3 toadz! \\n\\nAl…\">, <Tweet id=1506358680622612488 text=\"RT @trippytoadznft: Public mint is now live! 🚨🚨🚨\\n\\nhttps://t.co/e1lMMy40hj\\n\\nTo celebrate the public mint, we'll be giving away 3 toadz! \\n\\nAl…\">, <Tweet id=1506358098600026126 text=\"RT @trippytoadznft: Public mint is now live! 🚨🚨🚨\\n\\nhttps://t.co/e1lMMy40hj\\n\\nTo celebrate the public mint, we'll be giving away 3 toadz! \\n\\nAl…\">, <Tweet id=1506357497581481992 text=\"RT @trippytoadznft: Public mint is now live! 🚨🚨🚨\\n\\nhttps://t.co/e1lMMy40hj\\n\\nTo celebrate the public mint, we'll be giving away 3 toadz! \\n\\nAl…\">, <Tweet id=1506357412596486145 text=\"RT @trippytoadznft: Public mint is now live! 🚨🚨🚨\\n\\nhttps://t.co/e1lMMy40hj\\n\\nTo celebrate the public mint, we'll be giving away 3 toadz! \\n\\nAl…\">, <Tweet id=1506357408615919617 text=\"RT @trippytoadznft: Public mint is now live! 🚨🚨🚨\\n\\nhttps://t.co/e1lMMy40hj\\n\\nTo celebrate the public mint, we'll be giving away 3 toadz! \\n\\nAl…\">, <Tweet id=1506357388491825160 text=\"RT @trippytoadznft: Public mint is now live! 🚨🚨🚨\\n\\nhttps://t.co/e1lMMy40hj\\n\\nTo celebrate the public mint, we'll be giving away 3 toadz! \\n\\nAl…\">, <Tweet id=1506357335471628297 text=\"RT @trippytoadznft: Public mint is now live! 🚨🚨🚨\\n\\nhttps://t.co/e1lMMy40hj\\n\\nTo celebrate the public mint, we'll be giving away 3 toadz! \\n\\nAl…\">], includes={}, errors=[], meta={'newest_id': '1506359542900174848', 'oldest_id': '1506357335471628297', 'result_count': 10, 'next_token': 'b26v89c19zqg8o3fpyqnrqbx9zzd8twoh4vgd5d3srkal'})"
      ]
     },
     "execution_count": 39,
     "metadata": {},
     "output_type": "execute_result"
    }
   ],
   "source": [
    "b =  client.search_recent_tweets(\"TrippyToadz\", \n",
    "                                 user_auth=True)\n",
    "b"
   ]
  }
 ],
 "metadata": {
  "interpreter": {
   "hash": "48441edff1f1bae7160f58d2c03e3e0b407948a6abe760649e1015bdd72356ab"
  },
  "kernelspec": {
   "display_name": "Python 3.9.5 64-bit",
   "language": "python",
   "name": "python3"
  },
  "language_info": {
   "codemirror_mode": {
    "name": "ipython",
    "version": 3
   },
   "file_extension": ".py",
   "mimetype": "text/x-python",
   "name": "python",
   "nbconvert_exporter": "python",
   "pygments_lexer": "ipython3",
   "version": "3.9.5"
  },
  "orig_nbformat": 4
 },
 "nbformat": 4,
 "nbformat_minor": 2
}
